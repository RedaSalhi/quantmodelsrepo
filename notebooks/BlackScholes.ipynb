# 📓 Black-Scholes SDE & PDE Demo Notebook

# 1. Imports
import numpy as np
import matplotlib.pyplot as plt

from models.black_scholes.sde import BlackScholesSDE
from models.black_scholes.pde import BlackScholesPDE

# 2. Simulate GBM paths (SDE)
spot = 100
mu = 0.05
sigma = 0.2
T = 1.0
n_paths = 5

bs_sde = BlackScholesSDE(spot, mu, sigma)
paths = bs_sde.simulate_paths(T, n_paths)

plt.figure(figsize=(10, 6))
for i in range(n_paths):
    plt.plot(paths[:, i], lw=1)
plt.title('Black-Scholes SDE: Simulated GBM Paths')
plt.xlabel('Time Steps')
plt.ylabel('Asset Price')
plt.grid(True)
plt.show()

# 3. Solve BS PDE for European Call
S_max = 200
K = 100
r = 0.05

bs_pde = BlackScholesPDE(S_max, K, T, r, sigma)
S_grid, V_grid = bs_pde.solve_call()

plt.figure(figsize=(10, 6))
plt.plot(S_grid, V_grid, label='Option Price')
plt.axvline(K, color='red', linestyle='--', label='Strike Price')
plt.title('Black-Scholes PDE: European Call Price')
plt.xlabel('Asset Price')
plt.ylabel('Option Value')
plt.legend()
plt.grid(True)
plt.show()
